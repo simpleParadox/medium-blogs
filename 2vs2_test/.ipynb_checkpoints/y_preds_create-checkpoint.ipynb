{
 "cells": [
  {
   "cell_type": "code",
   "execution_count": 2,
   "metadata": {},
   "outputs": [
    {
     "name": "stdout",
     "output_type": "stream",
     "text": [
      "[[0.51905133 0.41726957 0.87737143 0.93854598]\n",
      " [0.18491951 0.40018112 0.81542973 0.74982643]\n",
      " [0.75040878 0.88685073 0.97300453 0.35501394]\n",
      " [0.10509705 0.89084141 0.57079315 0.10568881]]\n"
     ]
    }
   ],
   "source": [
    "y_preds = np.random.rand(4,4)\n",
    "print(y_preds)"
   ]
  }
 ],
 "metadata": {
  "kernelspec": {
   "display_name": "Python 3",
   "language": "python",
   "name": "python3"
  },
  "language_info": {
   "codemirror_mode": {
    "name": "ipython",
    "version": 3
   },
   "file_extension": ".py",
   "mimetype": "text/x-python",
   "name": "python",
   "nbconvert_exporter": "python",
   "pygments_lexer": "ipython3",
   "version": "3.7.4"
  }
 },
 "nbformat": 4,
 "nbformat_minor": 4
}
