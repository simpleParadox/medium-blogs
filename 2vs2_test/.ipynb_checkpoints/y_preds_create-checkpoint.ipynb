{
 "cells": [
  {
   "cell_type": "code",
   "execution_count": 10,
   "metadata": {},
   "outputs": [
    {
     "name": "stdout",
     "output_type": "stream",
     "text": [
      "[[0.52707903 0.74741866 0.14121818 ... 0.31871177 0.34900034 0.86413842]\n",
      " [0.98603801 0.35510847 0.35552603 ... 0.69448309 0.53645711 0.18877748]\n",
      " [0.50225957 0.87374059 0.00777515 ... 0.65104572 0.7474044  0.08192289]\n",
      " [0.29248026 0.32947041 0.58505843 ... 0.34258816 0.80801154 0.49244081]]\n"
     ]
    }
   ],
   "source": [
    "y_preds = np.random.rand(4,300)\n",
    "print(y_preds)"
   ]
  }
 ],
 "metadata": {
  "kernelspec": {
   "display_name": "Python 3",
   "language": "python",
   "name": "python3"
  },
  "language_info": {
   "codemirror_mode": {
    "name": "ipython",
    "version": 3
   },
   "file_extension": ".py",
   "mimetype": "text/x-python",
   "name": "python",
   "nbconvert_exporter": "python",
   "pygments_lexer": "ipython3",
   "version": "3.7.4"
  }
 },
 "nbformat": 4,
 "nbformat_minor": 4
}
