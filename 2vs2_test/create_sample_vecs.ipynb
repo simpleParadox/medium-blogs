{
 "cells": [
  {
   "cell_type": "code",
   "execution_count": 2,
   "metadata": {},
   "outputs": [],
   "source": [
    "import numpy as np"
   ]
  },
  {
   "cell_type": "code",
   "execution_count": 4,
   "metadata": {},
   "outputs": [],
   "source": [
    "y_true = np.random.rand(10, 4)"
   ]
  },
  {
   "cell_type": "code",
   "execution_count": 5,
   "metadata": {},
   "outputs": [
    {
     "data": {
      "text/plain": [
       "array([[0.55665377, 0.19583039, 0.33472841, 0.28327854],\n",
       "       [0.69510943, 0.36763285, 0.62487727, 0.16081325],\n",
       "       [0.21272559, 0.80347194, 0.75355286, 0.03034668],\n",
       "       [0.71571836, 0.73685554, 0.5181001 , 0.18734598],\n",
       "       [0.87897483, 0.49964642, 0.77971631, 0.62899876],\n",
       "       [0.65082332, 0.59756347, 0.03928626, 0.73571821],\n",
       "       [0.94122644, 0.50224722, 0.88709578, 0.83406498],\n",
       "       [0.70223486, 0.83048496, 0.31309483, 0.05560226],\n",
       "       [0.21758303, 0.5045014 , 0.95836099, 0.69055194],\n",
       "       [0.68439094, 0.1223663 , 0.31407762, 0.47326038]])"
      ]
     },
     "execution_count": 5,
     "metadata": {},
     "output_type": "execute_result"
    }
   ],
   "source": [
    "y_true"
   ]
  }
 ],
 "metadata": {
  "kernelspec": {
   "display_name": "Python 3",
   "language": "python",
   "name": "python3"
  },
  "language_info": {
   "codemirror_mode": {
    "name": "ipython",
    "version": 3
   },
   "file_extension": ".py",
   "mimetype": "text/x-python",
   "name": "python",
   "nbconvert_exporter": "python",
   "pygments_lexer": "ipython3",
   "version": "3.7.4"
  }
 },
 "nbformat": 4,
 "nbformat_minor": 4
}
