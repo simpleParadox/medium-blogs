{
 "cells": [
  {
   "cell_type": "code",
   "execution_count": 13,
   "metadata": {},
   "outputs": [],
   "source": [
    "from scipy.spatial.distance import cosine\n",
    "def two_vs_two(y_test, preds):\n",
    "    \"\"\"\n",
    "    1. Each pair of words is compared only once.\n",
    "    \"\"\"\n",
    "    points = 0\n",
    "    total_points = 0\n",
    "    for i in range(preds.shape[0] - 1):\n",
    "        s_i = y_test[i]\n",
    "        s_i_pred = preds[i]\n",
    "        for j in range(i+1, preds.shape[0]):\n",
    "            s_j = y_test[j]\n",
    "            s_j_pred = preds[j]\n",
    "\n",
    "            # Compute cosine distance.\n",
    "            dsii = cosine(s_i, s_i_pred)\n",
    "            dsjj = cosine(s_j, s_j_pred)\n",
    "            dsij = cosine(s_i, s_j_pred)\n",
    "            dsji = cosine(s_j, s_i_pred)\n",
    "\n",
    "\n",
    "            if dsii + dsjj <= dsij + dsji:\n",
    "                points += 1\n",
    "            total_points += 1\n",
    "            \n",
    "    return points, total_points, points * 1.0 / total_points"
   ]
  },
  {
   "cell_type": "code",
   "execution_count": 15,
   "metadata": {},
   "outputs": [
    {
     "name": "stdout",
     "output_type": "stream",
     "text": [
      "(3, 6, 0.5)\n"
     ]
    }
   ],
   "source": [
    "print(two_vs_two(y_test, y_preds))"
   ]
  }
 ],
 "metadata": {
  "kernelspec": {
   "display_name": "Python 3",
   "language": "python",
   "name": "python3"
  },
  "language_info": {
   "codemirror_mode": {
    "name": "ipython",
    "version": 3
   },
   "file_extension": ".py",
   "mimetype": "text/x-python",
   "name": "python",
   "nbconvert_exporter": "python",
   "pygments_lexer": "ipython3",
   "version": "3.7.4"
  }
 },
 "nbformat": 4,
 "nbformat_minor": 4
}
